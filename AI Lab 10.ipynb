{
 "cells": [
  {
   "cell_type": "code",
   "execution_count": 3,
   "metadata": {},
   "outputs": [
    {
     "name": "stderr",
     "output_type": "stream",
     "text": [
      "[nltk_data] Downloading package stopwords to C:\\Users\\Khizar\n",
      "[nltk_data]     Javed\\AppData\\Roaming\\nltk_data...\n",
      "[nltk_data]   Package stopwords is already up-to-date!\n"
     ]
    },
    {
     "data": {
      "text/plain": [
       "True"
      ]
     },
     "execution_count": 3,
     "metadata": {},
     "output_type": "execute_result"
    }
   ],
   "source": [
    "import nltk \n",
    "nltk.download('stopwords')"
   ]
  },
  {
   "cell_type": "code",
   "execution_count": 4,
   "metadata": {},
   "outputs": [],
   "source": [
    "from nltk.corpus import stopwords\n",
    "from nltk.tokenize import word_tokenize"
   ]
  },
  {
   "cell_type": "code",
   "execution_count": 5,
   "metadata": {},
   "outputs": [
    {
     "name": "stdout",
     "output_type": "stream",
     "text": [
      "Hi, this is Khizar Javed CEO of KBM Solutions! How may I help you?\n"
     ]
    }
   ],
   "source": [
    "text=\"Hi, this is Khizar Javed CEO of KBM Solutions! How may I help you?\"\n",
    "print(text)"
   ]
  },
  {
   "cell_type": "code",
   "execution_count": 7,
   "metadata": {},
   "outputs": [
    {
     "data": {
      "text/plain": [
       "'hi, this is khizar javed ceo of kbm solutions! how may i help you?'"
      ]
     },
     "execution_count": 7,
     "metadata": {},
     "output_type": "execute_result"
    }
   ],
   "source": [
    "lowercase=text.lower()\n",
    "lowercase"
   ]
  },
  {
   "cell_type": "code",
   "execution_count": 9,
   "metadata": {},
   "outputs": [
    {
     "name": "stdout",
     "output_type": "stream",
     "text": [
      "hi this is khizar javed ceo of kbm solutions how may i help you\n"
     ]
    }
   ],
   "source": [
    "import string\n",
    "cleantext=lowercase.translate(str.maketrans(\"\",\"\",string.punctuation))\n",
    "print(cleantext)"
   ]
  },
  {
   "cell_type": "code",
   "execution_count": 10,
   "metadata": {},
   "outputs": [
    {
     "name": "stdout",
     "output_type": "stream",
     "text": [
      "['hi', 'this', 'is', 'khizar', 'javed', 'ceo', 'of', 'kbm', 'solutions', 'how', 'may', 'i', 'help', 'you']\n"
     ]
    }
   ],
   "source": [
    "tokenize_word=word_tokenize(cleantext,\"english\")\n",
    "print(tokenize_word)"
   ]
  },
  {
   "cell_type": "code",
   "execution_count": 56,
   "metadata": {},
   "outputs": [
    {
     "name": "stdout",
     "output_type": "stream",
     "text": [
      "What's your name ? Khizar\n",
      "Khizar welcome to KBM restaurant\n",
      "My name is Safwan! Your waiter for today\n",
      "I would help you today to order your food\n",
      "Would you like to see the menu for today * Y / N * y\n",
      "What would you like to order biryani, burger, korma or nihari ?\n",
      "korma\n",
      "Which korma would you like beef, chicken or mutton\n",
      "mutton\n",
      "Which mutton korma would you like samll, regular or large\n",
      "large\n",
      "Please enter your info to proceed\n",
      "Please enter your cell number 03131576557\n",
      "Please enter your address North\n",
      "Khizar your order has been received for large mutton korma\n",
      "You will shortly receive a confirmation message on 03131576557\n",
      "Your order has been placed\n",
      "Enjoy your meal\n",
      "Have a great day\n",
      "Bye!\n"
     ]
    }
   ],
   "source": [
    "import time\n",
    "import random\n",
    "\n",
    "def main():\n",
    "    item=input(\"What would you like to order biryani, burger, korma or nihari ?\\n\")\n",
    "    time.sleep(2)\n",
    "    \n",
    "    if \"burger\" in item:\n",
    "        burger()\n",
    "    elif \"biryani\" in item:\n",
    "        biryani()\n",
    "    elif \"korma\" in item:\n",
    "        korma()\n",
    "    elif \"nihari\" in item:\n",
    "        print(\"Sorry this item is not currently available at our restaurant\")\n",
    "    else:\n",
    "        print(\"Wrong input\")\n",
    "        time.sleep(2)\n",
    "        \n",
    "\n",
    "\n",
    "def order():\n",
    "    print(\"         ***** Menu ***** \")\n",
    "    print(\"1. Burger\")\n",
    "    print(\"2. Biryani\")\n",
    "    print(\"3. Korma\")\n",
    "    print(\"4. Nihari\")\n",
    "    time.sleep(2)\n",
    "\n",
    "\n",
    "def burger():\n",
    "    print(\"Which burger would you like beef or chicken\")\n",
    "    burger=input()\n",
    "    if \"beef\" in burger:\n",
    "        time.sleep(2)\n",
    "        print(\"Which beef burger would you like samll, regular or large\")\n",
    "        beef_burger_size=input()\n",
    "        time.sleep(3)\n",
    "        print(\"Please enter your info to proceed\")\n",
    "        beef_burger_no=input(\"Please enter your cell number \")\n",
    "        beef_burger_add=input(\"Please enter your address \")\n",
    "        time.sleep(3)\n",
    "        print(name+\" your order has been received for \"+beef_burger_size+\" beef burger\")\n",
    "        time.sleep(2)\n",
    "        print(\"You will shortly receive a confirmation message on \"+beef_burger_no)\n",
    "        time.sleep(10)\n",
    "        print(\"Your order has been placed\")\n",
    "    elif \"chicken\" in burger:\n",
    "        time.sleep(2)\n",
    "        print(\"Which chicken burger would you like samll, regular or large\")\n",
    "        chicken_burger_size=input()\n",
    "        time.sleep(3)\n",
    "        print(\"Please enter your info to proceed\")\n",
    "        chicken_burger_no=input(\"Please enter your cell number \")\n",
    "        chicken_burger_add=input(\"Please enter your address \")\n",
    "        time.sleep(3)\n",
    "        print(name+\" your order has been received for \"+chicken_burger_size+\" chicken burger\")\n",
    "        time.sleep(2)\n",
    "        print(\"You will shortly receive a confirmation message on \"+chicken_burger_no)\n",
    "        time.sleep(10)\n",
    "        print(\"Your order has been placed\")\n",
    "    else:\n",
    "        print(\"Sorry this item is not available at our restaurant\")\n",
    "\n",
    "\n",
    "def biryani():\n",
    "    print(\"Which biryani would you like beef, chicken or mutton\")\n",
    "    biryani=input()\n",
    "    if \"beef\" in biryani:\n",
    "        time.sleep(2)\n",
    "        print(\"Which beef biryani would you like samll, regular or large\")\n",
    "        beef_biryani_size=input()\n",
    "        time.sleep(3)\n",
    "        print(\"Please enter your info to proceed\")\n",
    "        beef_biryani_no=input(\"Please enter your cell number \")\n",
    "        beef_biryani_add=input(\"Please enter your address \")\n",
    "        time.sleep(3)\n",
    "        print(name+\" your order has been received for \"+beef_biryani_size+\" beef biryani\")\n",
    "        time.sleep(2)\n",
    "        print(\"You will shortly receive a confirmation message on \"+beef_biryani_no)\n",
    "        time.sleep(10)\n",
    "        print(\"Your order has been placed\")\n",
    "    elif \"chicken\" in biryani:\n",
    "        time.sleep(2)\n",
    "        print(\"Which chicken biryani would you like samll, regular or large\")\n",
    "        chicken_biryani_size=input()\n",
    "        time.sleep(3)\n",
    "        print(\"Please enter your info to proceed\")\n",
    "        chicken_biryani_no=input(\"Please enter your cell number \")\n",
    "        chicken_biryani_add=input(\"Please enter your address \")\n",
    "        time.sleep(3)\n",
    "        print(name+\" your order has been received for \"+chicken_biryani_size+\" chicken biryani\")\n",
    "        time.sleep(2)\n",
    "        print(\"You will shortly receive a confirmation message on \"+chicken_biryani_no)\n",
    "        time.sleep(10)\n",
    "        print(\"Your order has been placed\")\n",
    "    elif \"mutton\" in biryani:\n",
    "        time.sleep(2)\n",
    "        print(\"Which mutton biryani would you like samll, regular or large\")\n",
    "        mutton_biryani_size=input()\n",
    "        time.sleep(3)\n",
    "        print(\"Please enter your info to proceed\")\n",
    "        mutton_biryani_no=input(\"Please enter your cell number \")\n",
    "        mutton_biryani_add=input(\"Please enter your address \")\n",
    "        time.sleep(3)\n",
    "        print(name+\" your order has been received for \"+mutton_biryani_size+\" mutton biryani\")\n",
    "        time.sleep(2)\n",
    "        print(\"You will shortly receive a confirmation message on \"+mutton_biryani_no)\n",
    "        time.sleep(10)\n",
    "        print(\"Your order has been placed\")\n",
    "    else:\n",
    "        print(\"Sorry this item is not available at our restaurant\")\n",
    "\n",
    "\n",
    "def korma():\n",
    "    print(\"Which korma would you like beef, chicken or mutton\")\n",
    "    korma=input()\n",
    "    if \"beef\" in korma:\n",
    "        time.sleep(2)\n",
    "        print(\"Which beef korma would you like samll, regular or large\")\n",
    "        beef_korma_size=input()\n",
    "        time.sleep(3)\n",
    "        print(\"Please enter your info to proceed\")\n",
    "        beef_korma_no=input(\"Please enter your cell number \")\n",
    "        beef_korma_add=input(\"Please enter your address \")\n",
    "        time.sleep(3)\n",
    "        print(name+\" your order has been received for \"+beef_korma_size+\" beef korma\")\n",
    "        time.sleep(2)\n",
    "        print(\"You will shortly receive a confirmation message on \"+beef_korma_no)\n",
    "        time.sleep(10)\n",
    "        print(\"Your order has been placed\")\n",
    "    elif \"chicken\" in korma:\n",
    "        time.sleep(2)\n",
    "        print(\"Which chicken korma would you like samll, regular or large\")\n",
    "        chicken_korma_size=input()\n",
    "        time.sleep(3)\n",
    "        print(\"Please enter your info to proceed\")\n",
    "        chicken_korma_no=input(\"Please enter your cell number \")\n",
    "        chicken_korma_add=input(\"Please enter your address \")\n",
    "        time.sleep(3)\n",
    "        print(name+\" your order has been received for \"+chicken_korma_size+\" chicken korma\")\n",
    "        time.sleep(2)\n",
    "        print(\"You will shortly receive a confirmation message on \"+chicken_korma_no)\n",
    "        time.sleep(10)\n",
    "        print(\"Your order has been placed\")\n",
    "    elif \"mutton\" in korma:\n",
    "        time.sleep(2)\n",
    "        print(\"Which mutton korma would you like samll, regular or large\")\n",
    "        mutton_korma_size=input()\n",
    "        time.sleep(3)\n",
    "        print(\"Please enter your info to proceed\")\n",
    "        mutton_korma_no=input(\"Please enter your cell number \")\n",
    "        mutton_korma_add=input(\"Please enter your address \")\n",
    "        time.sleep(3)\n",
    "        print(name+\" your order has been received for \"+mutton_korma_size+\" mutton korma\")\n",
    "        time.sleep(2)\n",
    "        print(\"You will shortly receive a confirmation message on \"+mutton_korma_no)\n",
    "        time.sleep(10)\n",
    "        print(\"Your order has been placed\")\n",
    "    else:\n",
    "        print(\"Sorry this item is not available at our restaurant\")\n",
    "\n",
    "\n",
    "\n",
    "name=input(\"What's your name ? \")\n",
    "time.sleep(2)\n",
    "print(name+\" welcome to KBM restaurant\")\n",
    "time.sleep(2)\n",
    "print(\"My name is Safwan! Your waiter for today\")\n",
    "time.sleep(2)\n",
    "print(\"I would help you today to order your food\")\n",
    "time.sleep(2)\n",
    "choice=input(\"Would you like to see the menu for today * Y / N * \")\n",
    "if \"y\" in choice:\n",
    "    main()\n",
    "    time.sleep(3)\n",
    "    print(\"Enjoy your meal\")\n",
    "else:\n",
    "    print(\"Ok\")\n",
    "    time.sleep(3)\n",
    "\n",
    "print(\"Have a great day\")\n",
    "time.sleep(3)\n",
    "print(\"Bye!\")\n",
    "\n",
    "\n"
   ]
  }
 ],
 "metadata": {
  "kernelspec": {
   "display_name": "Python 3",
   "language": "python",
   "name": "python3"
  },
  "language_info": {
   "codemirror_mode": {
    "name": "ipython",
    "version": 3
   },
   "file_extension": ".py",
   "mimetype": "text/x-python",
   "name": "python",
   "nbconvert_exporter": "python",
   "pygments_lexer": "ipython3",
   "version": "3.8.5"
  }
 },
 "nbformat": 4,
 "nbformat_minor": 4
}
